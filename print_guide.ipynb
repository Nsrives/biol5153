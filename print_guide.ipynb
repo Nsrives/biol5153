{
 "cells": [
  {
   "cell_type": "markdown",
   "metadata": {},
   "source": [
    "## Understanding 'print()'\n",
    "- this section is all about printing"
   ]
  },
  {
   "cell_type": "code",
   "execution_count": 60,
   "metadata": {},
   "outputs": [
    {
     "name": "stdout",
     "output_type": "stream",
     "text": [
      "Hello world\n",
      "Hello world\n"
     ]
    }
   ],
   "source": [
    "# hello world\n",
    "print('Hello world')\n",
    "print(\"Hello world\")\n"
   ]
  },
  {
   "cell_type": "markdown",
   "metadata": {},
   "source": [
    "## Printing quotation marks\n",
    "### Write two print statments that give the following output:\n",
    "- She said, \"hello world\"\n",
    "- She said, \"hello world\""
   ]
  },
  {
   "cell_type": "code",
   "execution_count": 61,
   "metadata": {},
   "outputs": [
    {
     "name": "stdout",
     "output_type": "stream",
     "text": [
      "She said, 'hello world'\n",
      "She said, \"hello world\"\n",
      "She said, \"hello world\"\n"
     ]
    }
   ],
   "source": [
    "print(\"She said, 'hello world'\")\n",
    "print('She said, \"hello world\"')\n",
    "print(\"She said, \\\"hello world\\\"\")"
   ]
  },
  {
   "cell_type": "markdown",
   "metadata": {},
   "source": [
    "### Store and print variables"
   ]
  },
  {
   "cell_type": "code",
   "execution_count": 62,
   "metadata": {},
   "outputs": [
    {
     "name": "stdout",
     "output_type": "stream",
     "text": [
      "Bob\n",
      "Dylan\n",
      "BobDylan\n",
      "BobDylanfirst\n",
      "Bob Dylan is really old\n",
      "Bob Dylan is really old\n"
     ]
    }
   ],
   "source": [
    "# define some strings\n",
    "first = \"Bob\"\n",
    "last = \"Dylan\"\n",
    "\n",
    "x = 9\n",
    "y = 7\n",
    "# concatenate those strings\n",
    "full = first + last\n",
    "z = x + y\n",
    "\n",
    "# print those strings\n",
    "print(first)\n",
    "print(last)\n",
    "print(full)\n",
    "print(first + last + \"first\")\n",
    "print(first + \" \" + last + \" \" + \"is really old\")\n",
    "print(first, last, \"is really old\")"
   ]
  },
  {
   "cell_type": "markdown",
   "metadata": {},
   "source": [
    "## Get the length of a string"
   ]
  },
  {
   "cell_type": "code",
   "execution_count": 63,
   "metadata": {},
   "outputs": [
    {
     "name": "stdout",
     "output_type": "stream",
     "text": [
      "8\n",
      "8\n"
     ]
    }
   ],
   "source": [
    "# the long (but readable) way\n",
    "name_length = len(full)\n",
    "print(name_length)\n",
    "\n",
    "# a more concise way to do it, functions within functions\n",
    "print(len(full))\n"
   ]
  },
  {
   "cell_type": "markdown",
   "metadata": {},
   "source": [
    "## Print strings and numbers"
   ]
  },
  {
   "cell_type": "code",
   "execution_count": 64,
   "metadata": {},
   "outputs": [
    {
     "name": "stdout",
     "output_type": "stream",
     "text": [
      "There are 8 chatacters in Bob Dylan's name\n",
      "There are 8 characters in Bob Dylan's name\n",
      "There are 8 characters in Bob Dylan's name\n"
     ]
    }
   ],
   "source": [
    "# print strings and integers\n",
    "print(\"There are\", len(full), \"chatacters in Bob Dylan's name\")\n",
    "print(\"There are\", len(first + last), \"characters in Bob Dylan's name\")\n",
    "# print strings\n",
    "print(\"There are \" + str(len(first + last)) + \" characters in Bob Dylan's name\")"
   ]
  },
  {
   "cell_type": "markdown",
   "metadata": {},
   "source": [
    "## If x = 7 and y = \"7\", write two print statements to print \"77\" and \"14\" as the output"
   ]
  },
  {
   "cell_type": "code",
   "execution_count": 65,
   "metadata": {},
   "outputs": [
    {
     "name": "stdout",
     "output_type": "stream",
     "text": [
      "77\n",
      "14\n"
     ]
    }
   ],
   "source": [
    "x = 7\n",
    "y = \"7\"\n",
    "# print the string '77'\n",
    "print(str(x) + y)\n",
    "\n",
    "# add two numbers together\n",
    "print(x + int(y))"
   ]
  },
  {
   "cell_type": "markdown",
   "metadata": {},
   "source": [
    "## Some operations on strings"
   ]
  },
  {
   "cell_type": "code",
   "execution_count": 66,
   "metadata": {},
   "outputs": [
    {
     "name": "stdout",
     "output_type": "stream",
     "text": [
      "Bob\n",
      "bob\n",
      "bob\n"
     ]
    }
   ],
   "source": [
    "# methods to change the case of a string\n",
    "print(first)\n",
    "\n",
    "# lowercase and print\n",
    "print(first.lower())\n",
    "\n",
    "# change the value of the variable; lowercase and save to first\n",
    "first = first.lower()\n",
    "\n",
    "# print the changed variable\n",
    "print(first)\n",
    "\n",
    "\n"
   ]
  },
  {
   "cell_type": "code",
   "execution_count": 68,
   "metadata": {},
   "outputs": [
    {
     "name": "stdout",
     "output_type": "stream",
     "text": [
      "ACGTTAC\n",
      "ACGUUAC\n"
     ]
    }
   ],
   "source": [
    "# make some replacements\n",
    "dna = \"ACGTTAC\"\n",
    "print(dna)\n",
    "\n",
    "# print the dna as an rna string\n",
    "print(dna.replace(\"T\", \"U\"))"
   ]
  },
  {
   "cell_type": "markdown",
   "metadata": {},
   "source": [
    "## Formatted printing of strings"
   ]
  },
  {
   "cell_type": "code",
   "execution_count": 75,
   "metadata": {},
   "outputs": [
    {
     "name": "stdout",
     "output_type": "stream",
     "text": [
      "I love freaks and \"geeks.\"\n",
      "Freaks and Geeks\n",
      "Beyonce is better than Alicia Keys.\n",
      " I love Freaks and \"Geeks!\"\n"
     ]
    }
   ],
   "source": [
    "print('I love {} and \"{}.\"'.format('freaks', 'geeks'))\n",
    "\n",
    "# using format() method and referring a position of the object\n",
    "print ('{0} and {1}'.format('Freaks', 'Geeks'))\n",
    "\n",
    "# combining positional and keyword arguments\n",
    "print (('{other} is {1} than {0}.').format('Alicia Keys', 'better', other = 'Beyonce'))\n",
    "\n",
    "# use f\n",
    "print (f\" I love {'Freaks'} and \\\"{'Geeks'}!\\\"\")"
   ]
  }
 ],
 "metadata": {
  "kernelspec": {
   "display_name": "Python 3",
   "language": "python",
   "name": "python3"
  },
  "language_info": {
   "codemirror_mode": {
    "name": "ipython",
    "version": 3
   },
   "file_extension": ".py",
   "mimetype": "text/x-python",
   "name": "python",
   "nbconvert_exporter": "python",
   "pygments_lexer": "ipython3",
   "version": "3.11.8"
  }
 },
 "nbformat": 4,
 "nbformat_minor": 2
}
